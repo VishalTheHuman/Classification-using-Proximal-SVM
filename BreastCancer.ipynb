{
  "cells": [
    {
      "cell_type": "code",
      "execution_count": 1,
      "metadata": {
        "id": "xxnemXj5TcVA"
      },
      "outputs": [],
      "source": [
        "import numpy as np\n",
        "import pandas as pd\n",
        "from sklearn.datasets import load_breast_cancer\n",
        "from sklearn.model_selection import train_test_split\n",
        "from sklearn.preprocessing import StandardScaler\n",
        "from sklearn.metrics import accuracy_score\n",
        "from tabulate import tabulate"
      ]
    },
    {
      "cell_type": "code",
      "source": [
        "data = load_breast_cancer()\n",
        "X, y = data.data, data.target"
      ],
      "metadata": {
        "id": "Zx1CdNO9Tfgp"
      },
      "execution_count": 2,
      "outputs": []
    },
    {
      "cell_type": "code",
      "source": [
        "column_labels = np.append(data.feature_names, ['target'])\n",
        "df = pd.DataFrame(np.column_stack((X, y)), columns=column_labels)\n",
        "print(\"First 4 rows of the labeled dataset:\")\n",
        "print(tabulate(df.head(4), headers='keys', tablefmt='psql', showindex=False))"
      ],
      "metadata": {
        "colab": {
          "base_uri": "https://localhost:8080/"
        },
        "id": "hTe2ie8TThJf",
        "outputId": "9e8bb54c-cb09-429b-ee3f-7bcc88629841"
      },
      "execution_count": 3,
      "outputs": [
        {
          "output_type": "stream",
          "name": "stdout",
          "text": [
            "First 4 rows of the labeled dataset:\n",
            "+---------------+----------------+------------------+-------------+-------------------+--------------------+------------------+-----------------------+-----------------+--------------------------+----------------+-----------------+-------------------+--------------+--------------------+---------------------+-------------------+------------------------+------------------+---------------------------+----------------+-----------------+-------------------+--------------+--------------------+---------------------+-------------------+------------------------+------------------+---------------------------+----------+\n",
            "|   mean radius |   mean texture |   mean perimeter |   mean area |   mean smoothness |   mean compactness |   mean concavity |   mean concave points |   mean symmetry |   mean fractal dimension |   radius error |   texture error |   perimeter error |   area error |   smoothness error |   compactness error |   concavity error |   concave points error |   symmetry error |   fractal dimension error |   worst radius |   worst texture |   worst perimeter |   worst area |   worst smoothness |   worst compactness |   worst concavity |   worst concave points |   worst symmetry |   worst fractal dimension |   target |\n",
            "|---------------+----------------+------------------+-------------+-------------------+--------------------+------------------+-----------------------+-----------------+--------------------------+----------------+-----------------+-------------------+--------------+--------------------+---------------------+-------------------+------------------------+------------------+---------------------------+----------------+-----------------+-------------------+--------------+--------------------+---------------------+-------------------+------------------------+------------------+---------------------------+----------|\n",
            "|         17.99 |          10.38 |           122.8  |      1001   |           0.1184  |            0.2776  |           0.3001 |               0.1471  |          0.2419 |                  0.07871 |         1.095  |          0.9053 |             8.589 |       153.4  |           0.006399 |             0.04904 |           0.05373 |                0.01587 |          0.03003 |                  0.006193 |          25.38 |           17.33 |            184.6  |       2019   |             0.1622 |              0.6656 |            0.7119 |                 0.2654 |           0.4601 |                   0.1189  |        0 |\n",
            "|         20.57 |          17.77 |           132.9  |      1326   |           0.08474 |            0.07864 |           0.0869 |               0.07017 |          0.1812 |                  0.05667 |         0.5435 |          0.7339 |             3.398 |        74.08 |           0.005225 |             0.01308 |           0.0186  |                0.0134  |          0.01389 |                  0.003532 |          24.99 |           23.41 |            158.8  |       1956   |             0.1238 |              0.1866 |            0.2416 |                 0.186  |           0.275  |                   0.08902 |        0 |\n",
            "|         19.69 |          21.25 |           130    |      1203   |           0.1096  |            0.1599  |           0.1974 |               0.1279  |          0.2069 |                  0.05999 |         0.7456 |          0.7869 |             4.585 |        94.03 |           0.00615  |             0.04006 |           0.03832 |                0.02058 |          0.0225  |                  0.004571 |          23.57 |           25.53 |            152.5  |       1709   |             0.1444 |              0.4245 |            0.4504 |                 0.243  |           0.3613 |                   0.08758 |        0 |\n",
            "|         11.42 |          20.38 |            77.58 |       386.1 |           0.1425  |            0.2839  |           0.2414 |               0.1052  |          0.2597 |                  0.09744 |         0.4956 |          1.156  |             3.445 |        27.23 |           0.00911  |             0.07458 |           0.05661 |                0.01867 |          0.05963 |                  0.009208 |          14.91 |           26.5  |             98.87 |        567.7 |             0.2098 |              0.8663 |            0.6869 |                 0.2575 |           0.6638 |                   0.173   |        0 |\n",
            "+---------------+----------------+------------------+-------------+-------------------+--------------------+------------------+-----------------------+-----------------+--------------------------+----------------+-----------------+-------------------+--------------+--------------------+---------------------+-------------------+------------------------+------------------+---------------------------+----------------+-----------------+-------------------+--------------+--------------------+---------------------+-------------------+------------------------+------------------+---------------------------+----------+\n"
          ]
        }
      ]
    },
    {
      "cell_type": "code",
      "source": [
        "X_train, X_test, y_train, y_test = train_test_split(X, y, test_size=0.2, random_state=42)"
      ],
      "metadata": {
        "id": "CSoRadtiTlqp"
      },
      "execution_count": 4,
      "outputs": []
    },
    {
      "cell_type": "code",
      "source": [
        "scaler = StandardScaler()\n",
        "X_train = scaler.fit_transform(X_train)\n",
        "X_test = scaler.transform(X_test)"
      ],
      "metadata": {
        "id": "70eBtmZmTpEx"
      },
      "execution_count": 5,
      "outputs": []
    },
    {
      "cell_type": "code",
      "source": [
        "def proximal_svm(X, y, lambda_val, max_iter=100, alpha=0.01):\n",
        "    m, n = X.shape\n",
        "    theta = np.zeros(n)\n",
        "    for _ in range(max_iter):\n",
        "        margin = y * np.dot(X, theta)\n",
        "        hinge_loss = np.maximum(0, 1 - margin)\n",
        "        gradient = -np.dot(X.T, y * (margin < 1))\n",
        "        theta -= alpha * (gradient + lambda_val * np.sign(theta))\n",
        "    return theta"
      ],
      "metadata": {
        "id": "MlELQBsJTrtw"
      },
      "execution_count": 6,
      "outputs": []
    },
    {
      "cell_type": "code",
      "source": [
        "lambda_val = 0.1\n",
        "theta = proximal_svm(X_train, y_train, lambda_val)"
      ],
      "metadata": {
        "id": "d--KQ7d-TuYm"
      },
      "execution_count": 7,
      "outputs": []
    },
    {
      "cell_type": "code",
      "source": [
        "y_pred = np.sign(np.dot(X_test, theta))\n",
        "y_pred"
      ],
      "metadata": {
        "colab": {
          "base_uri": "https://localhost:8080/"
        },
        "id": "fqsrHnODTw5C",
        "outputId": "1494d8ae-0dcc-4139-9cc5-e1431832fa5a"
      },
      "execution_count": 8,
      "outputs": [
        {
          "output_type": "execute_result",
          "data": {
            "text/plain": [
              "array([ 1., -1., -1.,  1.,  1., -1., -1., -1., -1.,  1.,  1., -1.,  1.,\n",
              "       -1.,  1., -1.,  1.,  1.,  1., -1.,  1.,  1., -1.,  1.,  1.,  1.,\n",
              "        1.,  1.,  1., -1.,  1.,  1.,  1.,  1.,  1.,  1., -1.,  1., -1.,\n",
              "        1.,  1., -1.,  1.,  1.,  1.,  1.,  1.,  1.,  1.,  1., -1., -1.,\n",
              "       -1.,  1.,  1.,  1.,  1., -1., -1.,  1.,  1., -1., -1.,  1.,  1.,\n",
              "        1., -1., -1.,  1.,  1., -1., -1.,  1., -1.,  1.,  1.,  1., -1.,\n",
              "        1.,  1., -1.,  1., -1., -1., -1., -1., -1., -1.,  1.,  1.,  1.,\n",
              "       -1.,  1.,  1.,  1.,  1., -1., -1.,  1., -1., -1.,  1., -1., -1.,\n",
              "        1.,  1.,  1., -1.,  1.,  1., -1.,  1.,  1., -1.])"
            ]
          },
          "metadata": {},
          "execution_count": 8
        }
      ]
    },
    {
      "cell_type": "code",
      "source": [
        "accuracy = accuracy_score(y_test, y_pred)\n",
        "print(\"\\nAccuracy:\", accuracy)"
      ],
      "metadata": {
        "colab": {
          "base_uri": "https://localhost:8080/"
        },
        "id": "sEitmiaETzhc",
        "outputId": "7aa9cfb3-eebf-4e51-a49e-aadb79c6a8ce"
      },
      "execution_count": 9,
      "outputs": [
        {
          "output_type": "stream",
          "name": "stdout",
          "text": [
            "\n",
            "Accuracy: 0.5964912280701754\n"
          ]
        }
      ]
    }
  ],
  "metadata": {
    "kernelspec": {
      "display_name": "Python 3",
      "language": "python",
      "name": "python3"
    },
    "language_info": {
      "codemirror_mode": {
        "name": "ipython",
        "version": 3
      },
      "file_extension": ".py",
      "mimetype": "text/x-python",
      "name": "python",
      "nbconvert_exporter": "python",
      "pygments_lexer": "ipython3",
      "version": "3.11.4"
    },
    "colab": {
      "provenance": []
    }
  },
  "nbformat": 4,
  "nbformat_minor": 0
}